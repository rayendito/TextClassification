{
  "cells": [
    {
      "cell_type": "code",
      "execution_count": 2,
      "metadata": {
        "colab": {
          "base_uri": "https://localhost:8080/"
        },
        "id": "uEqAMDk71884",
        "outputId": "6255d4be-6374-433d-d675-e63aee7749d7"
      },
      "outputs": [
        {
          "output_type": "stream",
          "name": "stdout",
          "text": [
            "Looking in indexes: https://pypi.org/simple, https://us-python.pkg.dev/colab-wheels/public/simple/\n",
            "Requirement already satisfied: gensim in /usr/local/lib/python3.7/dist-packages (3.6.0)\n",
            "Collecting gensim\n",
            "  Downloading gensim-4.2.0-cp37-cp37m-manylinux_2_12_x86_64.manylinux2010_x86_64.whl (24.1 MB)\n",
            "\u001b[K     |████████████████████████████████| 24.1 MB 2.1 MB/s \n",
            "\u001b[?25hRequirement already satisfied: scipy>=0.18.1 in /usr/local/lib/python3.7/dist-packages (from gensim) (1.7.3)\n",
            "Requirement already satisfied: numpy>=1.17.0 in /usr/local/lib/python3.7/dist-packages (from gensim) (1.21.6)\n",
            "Requirement already satisfied: smart-open>=1.8.1 in /usr/local/lib/python3.7/dist-packages (from gensim) (5.2.1)\n",
            "Installing collected packages: gensim\n",
            "  Attempting uninstall: gensim\n",
            "    Found existing installation: gensim 3.6.0\n",
            "    Uninstalling gensim-3.6.0:\n",
            "      Successfully uninstalled gensim-3.6.0\n",
            "Successfully installed gensim-4.2.0\n",
            "4.2.0\n"
          ]
        }
      ],
      "source": [
        "%pip install --upgrade gensim\n",
        "import gensim\n",
        "import numpy as np\n",
        "import tensorflow as tf\n",
        "import pandas as pd\n",
        "from sklearn.model_selection import train_test_split\n",
        "from keras import backend as K\n",
        "from sklearn.metrics import precision_score, recall_score, f1_score, accuracy_score\n",
        "from time import time\n",
        "print(gensim.__version__)"
      ]
    },
    {
      "cell_type": "code",
      "execution_count": 50,
      "metadata": {
        "colab": {
          "base_uri": "https://localhost:8080/"
        },
        "id": "t6P9OFsF1_ub",
        "outputId": "49832915-c4be-4fc8-a34c-5dd5f6dc70a0"
      },
      "outputs": [
        {
          "output_type": "stream",
          "name": "stdout",
          "text": [
            "Time to build vocab: 0.0 mins\n",
            "Time to train the model: 0.18 mins\n",
            "[('berguna', 0.42950114607810974), ('efektif', 0.41681528091430664), ('lokdon', 0.4125816822052002), ('kritik', 0.3982113301753998), ('mengikuti', 0.3930703401565552), ('preventif', 0.38423076272010803), ('mendukung', 0.35873863101005554), ('perekonomian', 0.35820451378822327), ('menimbulkan', 0.35663172602653503), ('mitigasi', 0.350292831659317)]\n",
            "['corona', 'nya', 'cowok', 'https', 'yang', 'enggak', 'covid', 'virus', 'ya', 'orang', 'depok', 'psbb', 'saja', 'distancing', 'indonesia', 'sudah', 'presiden', 'kalo', 'physical', 'menkes', 'jakarta', 'normal', 'masker', 'new', 'sih', 'gue', 'pemerintah', 'jokowi', 'ku', 'pakai', 'positif', 'begitu', 'banget', 'tapi', 'nih', 'warga', 'kena', 'rumah', 'menteri', 'kota', 'deh', 'kayak', 'karena', 'dari', 'kesehatan', 'dengan', 'masyarakat', 'masuk', 'gy', 'sama', 'amp', 'negara', 'di', 'gubernur', 'semoga', 'memang', 'tau', 'penyebaran', 'pasien', 'lantai', 'rakyat', 'bagaimana', 'sampai', 'ramadhan', 'bikin', 'tidak', 'kerja', 'pandemi', 'provinsi', 'berita', 'dki', 'untuk', 'jadi', 'wabah', 'anak', 'salah', 'juga', 'takut', 'gara', 'bilang', 'lu', 'benar', 'pas', 'jalan', 'sikm', 'lagi', 'biar', 'jaga', 'coronavirus', 'kebijakan', 'tangan', 'pemprov', 'jangan', 'ini', 'protokol', 'sakit', 'social', 'sehat', 'allah', 'istimewa', 'langsung', 'teman', 'kemarin', 'itu', 'sembuh', 'info', 'bisa', 'kak', 'hiburan', 'begini', 'daerah', 'tetap', 'lihat', 'dunia', 'sekolah', 'mu', 'makan', 'ri', 'kali', 'polri', 'iya', 'panik', 'penanganan', 'cepat', 'jawa', 'sekarang', 'apa', 'tuh', 'kasih', 'buka', 'gua', 'barat', 'uang', 'belum', 'pencegahan', 'jarak', 'terus', 'ada', 'dan', 'wa', 'hati', 'ayo', 'hidup', 'meninggal', 'lupa', 'hoaks', 'hoax', 'pengin', 'menerapkan', 'dapat', 'aman', 'surabaya', 'mas', 'an', 'ke', 'mei', 'terkait', 'aniesbaswedan', 'langkah', 'habis', 'media', 'hai', 'selamat', 'beli', 'cegah', 'lah', 'ekonomi', 'sosial', 'baca', 'data', 'kehidupan', 'dalam', 'anies', 'tatanan', 'via', 'suka', 'malam', 'jam', 'cuci', 'lo', 'pasar', 'dirumahaja', 'lockdown', 'tni', 'khilafah', 'tinggal', 'mencegah', 'yuk', 'keluarga', 'eh', 'masih', 'pulang', 'rangka', 'tolong', 'pusat', 'main', 'mati', 'himbauan', 'kok', 'coba', 'mall', 'mah', 'manusia', 'pagi', 'the', 'tugas', 'saya', 'bantuan', 'sesuai', 'negeri', 'aturan', 'obat', 'aku', 'korban', 'terima', 'wilayah', 'detikcom', 'mengomong', 'beliau', 'cek', 'mudik', 'minggu', 'tubuh', 'kampus', 'amin', 'joko', 'tanggal', 'rs', 'desa', 'wkwk', 'penyakit', 'juni', 'widodo', 'china', 'melaksanakan', 'pembatasan', 'mohon', 'doang', 'me', 'semangat', 'air', 'dokter', 'dirumah', 'mau', 'kondisi', 'stay', 'bang', 'sok', 'online', 'pada', 'mari', 'video', 'cari', 'kabupaten', 'dimana', 'entar', 'polsek', 'kantor', 'maaf', 'penularan', 'beda', 'informasi', 'surat', 'rame', 'menjaga', 'seperti', 'mbak', 'mata', 'and', 'kita', 'terawan', 'kemana', 'memakai', 'isu', 'mudah', 'harga', 'raya', 'dom', 'butuh', 'medis', 'bekasi', 'bogor', 'libur', 'update', 'susah', 'menghadapi', 'banyak', 'lakukan', 'akibat', 'hilang', 'no', 'dkijakarta', 'test', 'belajar', 'suhu', 'tutup', 'wajib', 'waspada', 'pejuang', 'ki', 'ah', 'gratis', 'min', 'kepala', 'tentang', 'jabar', 'mereka', 'didukung', 'negatif', 'trending', 'ketemu', 'terkena', 'nama', 'hasil', 'malang', 'minum', 'anggota', 'aktivitas', 'stasiun', 'walikota', 'dah', 'loh', 'kampung', 'percaya', 'kegiatan', 'kabar', 'bawa', 'berubah', 'petugas', 'disiplin', 'alhamdulillah', 'terinfeksi', 'cnnindonesia', 'puasa', 'tuhan', 'publik', 'pemkot', 'kuliah', 'mengatasi', 'bu', 'mending', 'kenapa', 'harus', 'penerapan', 'lebaran', 'selesai', 'jatim', 'lebih', 'makanan', 'patroli', 'si', 'isi', 'timur', 'korona', 'antisipasi', 'kamu', 'pergi', 'malaysia', 'sabun', 'foto', 'dibuka', 'kelar', 'april', 'polres', 'wib', 'viruscorona', 'lawan', 'serius', 'bandung', 'pejabat', 'newnormal', 'ir', 'bebas', 'gejala', 'menangani', 'enak', 'wni', 'kagak', 'dll', 'bingung', 'kau', 'mobil', 'sadar', 'khusus', 'tes', 'tidur', 'terapkan', 'menunggu', 'melawan', 'nak', 'sumber', 'tim', 'terjangkit', 'hand', 'percepatan', 'jepang', 'id', 'selatan', 'turun', 'pra', 'salam', 'dennysiregar', 'zarazettirazr', 'suspect', 'istana', 'vaksin', 'bukan', 'who', 'kemenkesri', 'alasan', 'pernyataan', 'jogja', 'dampak', 'aneh', 'kasihan', 'pemimpin', 'flu', 'mengikuti', 'sembako', 'hukum', 'upaya', 'ambil', 'anti', 'ibadah', 'gagal', 'collegemenfess', 'at', 'anjir', 'republik', 'papua', 'acara', 'nasional', 'cuman', 'risiko', 'maret', 'sayang', 'oh', 'bersih', 'otak', 'usaha', 'asli', 'polisi', 'wkwkwk', 'diperpanjang', 'sanitizer', 'safe', 'sebagai', 'terdampak', 'situasi', 'masjid', 'is', 'padahal', 'darurat', 'batuk', 'sedih', 'menonton', 'dukung', 'ukt', 'mikir', 'tenang', 'besok', 'menyebar', 'cina', 'badan', 'hi', 'doa', 'pesan', 'dpr', 'kalau', 'siang', 'gugus', 'bank', 'program', 'news', 'parah', 'agama', 'mencari', 'disuruh', 'duit', 'mengerti', 'rantai', 'merah', 'bantu', 'paham', 'menhub', 'of', 'tindakan', 'politik', 'twitter', 'kartu', 'terpapar', 'hari', 'tersebut', 'bagus', 'pelaksanaan', 'ramai', 'for', 'kendaraan', 'membantu', 'tunggu', 'giat', 'kematian', 'dana', 'angka', 'mesti', 'ditengah', 'kah', 'putih', 'tua', 'rp', 'penuh', 'om', 'kuat', 'ustadtengkuzul', 'keputusan', 'tahun', 'dakwah', 'suara', 'btw', 'bumi', 'kelas', 'komunikasi', 'ditutup', 'karantina', 'keramaian', 'dengar', 'kadrun', 'mandiri', 'kepada', 'viral', 'muka', 'dekat', 'peduli', 'didu', 'gaji', 'kangen', 'keniscayaan', 'kwa', 'be', 'mendukung', 'adek', 'pemeriksaan', 'je', 'wuhan', 'panas', 'bayar', 'youtube', 'ra', 'bareng', 'suruh', 'waktu', 'rapat', 'gila', 'tiba', 'tenaga', 'pengecekan', 'lho', 'benaran', 'bumn', 'bentuk', 'ganti', 'dipakai', 'mulu', 'terbaik', 'msaid', 'memiliki', 'bicara', 'kemenkes', 'dikit', 'fakta', 'berani', 'masing', 'sistem', 'divhumas', 'muncul', 'you', 'diam', 'atau', 'tingkat', 'lucu', 'menambah', 'ramlirizal', 'utama', 'jumat', 'barang', 'bnpb', 'contoh', 'ganjarpranowo', 'fadlizon', 'dong', 'potongan', 'tv', 'nder', 'memutus', 'mengapai', 'mengasih', 'amerika', 'share', 'bahan', 'kakak', 'banjir', 'kontak', 'bahas', 'akun', 'mencuci', 'as', 'sibuk', 'peraturan', 'kata', 'pintar', 'khawatir', 'hebat', 'ye', 'berskala', 'gegara', 'mahal', 'bandara', 'berdoa', 'kab', 'jual', 'sosialisasi', 'hahaha', 'ketua', 'dilarang', 'sebelum', 'bahasa', 'keren', 'kaya', 'nomor', 'semua', 'silakan', 'alias', 'kadang', 'kira', 'mana', 'berlaku', 'macam', 'prosedur', 'tanggap', 'islam', 'wisata', 'senang', 'rajin', 'hp', 'tangerang', 'kementerian', 'sulit', 'santuy', 'stayathome', 'selasa', 'support', 'apapun', 'rabu', 'motor', 'untung', 'simak', 'kereta', 'setuju', 'cuma', 'aplikasi', 'arah', 'lampung', 'jujur', 'boleh', 'melanggar', 'pki', 'wfh', 'ahli', 'tetangga', 'subtanyarl', 'solusi', 'ikuti', 'sabar', 'maju', 'berhasil', 'bahaya', 'heran', 'ridwankamil', 'bali', 'aceh', 'sumpah', 'pos', 'dikasih', 'juta', 'dibilang', 'al', 'akan', 'home', 'pekerjaan', 'walkot', 'malu', 'hal', 'pendidikan', 'on', 'duta', 'pengunjung', 'berbahaya', 'mantan', 'goblok', 'dianggap', 'bangsa', 'anjing', 'hehe', 'senin', 'jubir', 'kapasitas', 'bencana', 'mundur', 'sehari', 'halo', 'memilih', 'status', 'biaya', 'kan', 'null', 'giliran', 'parno', 'titik', 'korea', 'diterapkan', 'judul', 'my', 'jabodetabek', 'berjalan', 'tujuan', 'standar', 'keselamatan', 'muslim', 'era', 'kamis', 'was', 'berharap', 'menyambut', 'pilih', 'penumpang', 'addiems', 'saudara', 'penggunaan', 'sholat', 'ba', 'ribut', 'he', 'bosan', 'wajar', 'duduk', 'bertanya', 'urusan', 'akbar', 'solo', 'guys', 'musim', 'lokasi', 'resmi', 'ruang', 'bupati', 'cc', 'rapid', 'melindungi', 'wali', 'kenal', 'pt', 'we', 'karyawan', 'mahasiswa', 'piyuuu', 'keras', 'nongkrong', 'siaga', 'bro', 'memikirkan', 'datang', 'fokus', 'dok', 'bodoh', 'teh', 'kes', 'cerita', 'dinas', 'izin', 'bos', 'terimakasih', 'menyerang', 'baik', 'pariwisata', 'urus', 'up', 'mengeluarkan', 'anggap', 'pola', 'pribadi', 'plus', 'usah', 'lahir', 'sukses', 'dulu', 'link', 'lawancovid', 'tertular', 'masyaallah', 'bentar', 'kudu', 'kecuali', 'capek', 'sarana', 'pelayanan', 'haha', 'udara', 'kuota', 'kebal', 'kaget', 'semenjak', 'riau', 'stres', 'efek', 'berbeda', 'sepi', 'pusing', 'menerima', 'penjelasan', 'apresiasi', 'lawanhoax', 'alat', 'membagikan', 'krl', 'umat', 'wkwkw', 'baswedan', 'pedagang', 'area', 'anggaran', 'pura', 'pancasila', 'plis', 'repost', 'laporan', 'but', 'toko', 'ss', 'bagi', 'from', 'kat', 'perusahaan', 'dasar', 'pasal', 'mantap', 'gelombang', 'fisik', 'heboh', 'swab', 'personil', 'nyinyir', 'ribu', 'kec', 'kejadian', 'nanti', 'neng', 'bersatu', 'perdana', 'sektor', 'ayah', 'gaboleh', 'layanan', 'pemda', 'ditambah', 'bpk', 'allahu', 'marah', 'apd', 'satu', 'wakil', 'pcr', 'geloraco', 'pekerja', 'asing', 'ibu', 'jaman', 'indak', 'ngeri', 'mengamankan', 'point', 'kebanyakan', 'arahan', 'ktp', 'singapura', 'hujan', 'gaya', 'netizen', 'life', 'jualan', 'berat', 'beritaterkini', 'mencoba', 'daftar', 'mal', 'selengkapnya', 'belanja', 'bangkalan', 'nyebar', 'sono', 'memasuki', 'alam', 'semarang', 'bertambah', 'jateng', 'terbuka', 'ingat', 'rencana', 'uu', 'abetpunx', 'setelah', 'istilah', 'ujung', 'kebersihan', 'please', 'bhabinkamtibmas', 'ta', 'prabowo', 'mengalir', 'rasulullah', 'cocok', 'gapapa', 'menyalahkan', 'tukang', 'jika', 'perpanjang', 'ho', 'liburan', 'kompascom', 'grup', 'like', 'jaya', 'bertahap', 'bukti', 'don', 'kawan', 'kalah', 'perjalanan', 'beroperasi', 'kapolri', 'arti', 'pemerintahan', 'terbaru', 'lumayan', 'persiapan', 'bismillah', 'seram', 'edukasi', 'ok', 'bohong', 'kedepan', 'mandi', 'live', 'tahan', 'go', 'pajak', 'sia', 'ditemukan', 'lancar', 'sore', 'jajaran', 'syarat', 'dinyatakan', 'disaat', 'sobat', 'perekonomian', 'guru', 'jalanan', 'happyramadhan', 'akal', 'instruksi', 'ph', 'kesiapan', 'beberapa', 'perhatian', 'admin', 'berpikir', 'isolasi', 'terkini', 'dijadikan', 'pdp', 'lingkungan', 'ting', 'utara', 'zona', 'kapan', 'beres', 'mengambil', 'membatasi', 'pengawasan', 'kaum', 'mengajak', 'ha', 'mulut', 'merebak', 'kelihatan', 'mengantisipasi', 'akses', 'sahabat', 'ora', 'hadapi', 'ulang', 'bansos', 'pintu', 'total', 'tempat', 'menjalankan', 'dm', 'shalat', 'namanya', 'banten', 'disana', 'kamtibmas', 'pikiran', 'minimal', 'vs', 'konspirasi', 'niat', 'full', 'patuh', 'istri', 'pokok', 'tips', 'kebutuhan', 'bangun', 'vivacoid', 'imun', 'buruk', 'menangis', 'imbauan', 'nyawa', 'insyaallah', 'aing', 'lagu', 'kecamatan', 'daripada', 'muda', 'selalu', 'aparat', 'jagajarak', 'membunuh', 'melek', 'operasi', 'tanggung', 'what', 'time', 'terbatas', 'phk', 'aksi', 'tanah', 'perkembangan', 'mentri', 'global', 'produktif', 'maksud', 'sombong', 'pasukan', 'tentara', 'bpjs', 'posko', 'rezim', 'siswa', 'kerumunan', 'lengkap', 'baju', 'sebelah', 'india', 'rebahan', 'jiwa', 'internet', 'wes', 'ketat', 'industri', 'lapangan', 'nyata', 'minyak', 'tok', 'bangsat', 'sebener', 'duluan', 'nerapin', 'agus', 'nge', 'statement', 'kang', 'mohmahfudmd', 'preventif', 'oke', 'kurawa', 'kenyataan', 'stop', 'sebentar', 'ketularan', 'pendukung', 'kritik', 'polda', 'santai', 'bisnis', 'malas', 'jadwal', 'sesering', 'korupsi', 'fasilitas', 'risma', 'kama', 'bahagia', 'menit', 'sa', 'tol', 'temanhidupsehat', 'konser', 'sangat', 'komen', 'dprd', 'perawat', 'murah', 'kesel', 'event', 'ati', 'nek', 'saran', 'pelaku', 'adalah', 'in', 'ente', 'puncak', 'sing', 'tangani', 'paket', 'sisi', 'jl', 'tanda', 'melakukan', 'tangkal', 'sungguh', 'nu', 'gelar', 'unit', 'hadir', 'kami', 'iki', 'meningkat', 'suasana', 'ratusan', 'bersyukur', 'menular', 'sosmed', 'mudahan', 'pulau', 'bulan', 'jenazah', 'perasaan', 'dipersiapkan', 'rlthingy', 'berhenti', 'aduh', 'babi', 'umumkan', 'mengumumkan', 'gerakan', 'tahap', 'rb', 'ikutan', 'pelatihan', 'all', 'tweet', 'putus', 'fix', 'pandemik', 'check', 'keliling', 'fitri', 'baru', 'diganti', 'artikel', 'humas', 'penangkal', 'watu', 'wanita', 'not', 'atasi', 'membawa', 'angin', 'jahat', 'kayaknya', 'anjuran', 'bijak', 'proses', 'ayu', 'pe', 'ilmu', 'domisili', 'bangga', 'gus', 'olahraga', 'berdasarkan', 'mematuhi', 'kopi', 'panggung', 'hsemangat', 'gub', 'sambut', 'post', 'mengadakan', 'mengurus', 'kalimat', 'kepanikan', 'bus', 'tangguh', 'buzzer', 'rindu', 'relawan', 'siapkan', 'ribet', 'kanan', 'kesadaran', 'menjalani', 'will', 'diatas', 'bi', 'ih', 'patuhi', 'aiptu', 'vitamin', 'daya', 'laksanakan', 'bahwa', 'dia', 'situ', 'hotel', 'sumatera', 'infeksi', 'efektif', 'warung', 'penyekatan', 'lepas', 'jatuh', 'ribuan', 'beredar', 'teknologi', 'berjuang', 'koar', 'lama', 'turis', 'aktif', 'gb', 'ngopi', 'sd', 'level', 'bbm', 'bidang', 'dibanding', 'gampang', 'tiket', 'karo', 'kosong', 'koordinasi', 'mama', 'beraktivitas', 'tak', 'transisi', 'bertemu', 'maasyaallah', 'follow', 'kirim', 'rendah', 'trump', 'membuka', 'calon', 'salaman', 'mengalami', 'mengaku', 'ayam', 'keluar', 'kai', 'harap', 'dilaksanakan', 'ngumpul', 'cewek', 'digelar', 'abang', 'indah', 'jenderal', 'nasi', 'arus', 'hah', 'tvonenews', 'darah', 'lintas', 'listrik', 'membaca', 'singapore', 'menjadi', 'nasib', 'menang', 'teriak', 'aka', 'jt', 'wow', 'menahan', 'tolol', 'menghindari', 'lantas', 'pengumuman', 'microwave', 'menekan', 'diliburkan', 'jarang', 'liga', 'tadi', 'pastikan', 'open', 'aa', 'masak', 'non', 'pendapat', 'karya', 'herbal', 'hindari', 'perjuangan', 'by', 'kamar', 'gaes', 'sms', 'pp', 'opo', 'bar', 'wna', 'kucing', 'perintah', 'huhu', 'kpk', 'demam', 'com', 'diambil', 'periksa', 'sop', 'ditunda', 'ii', 'kabaharkam', 'perang', 'terhindar', 'lab', 'bayangkan', 'ig', 'istirahat', 'tks', 'meter', 'hehehe', 'bersin', 'luas', 'pabrik', 'swt', 'sikap', 'pengamanan', 'daring', 'macet', 'buku', 'lulus', 'satgas', 'menangkal', 'mengemban', 'positive', 'batas', 'woy', 'ui', 'cinta', 'bola', 'mengurangi', 'mungkin', 'transportasi', 'moga', 'selengkap', 'idul', 'yaallah', 'thread', 'buru', 'el', 'sekian', 'alterbase', 'hanya', 'melarang', 'sek', 'ketakutan', 'oven', 'memutuskan', 'menutup', 'perpanjangan', 'medsos', 'pikir', 'massal', 'tambahan', 'nkri', 'ab', 'sebulan', 'sidang', 'menyebabkan', 'bo', 'kurva', 'boro', 'nusantara', 'undang', 'kawasan', 'keamanan', 'potret', 'bin', 'meningkatkan', 'biarkan', 'pers', 'kebohonganbaru', 'sebenarnya', 'ferdinandhaean', 'sendiri', 'tertinggi', 'pilpres', 'melihat', 'menyembuhkan', 'ly', 'imunitas', 'berjemur', 'susipudjiastuti', 'berangkat', 'kumpul', 'produk', 'periode', 'free', 'ber', 'pegang', 'insentif', 'mematikan', 'your', 'evaluasi', 'tirtoid', 'penelitian', 'fase', 'tahi', 'bagikan', 'asn', 'detikfinance', 'hii', 'penerbangan', 'one', 'sebaran', 'memenuhi', 'universitas', 'permadiaktivis', 'duh', 'apalah', 'tulisan', 'pindah', 'mar', 'pasca', 'sekedar', 'pesantren', 'tindak', 'ditiadakan', 'persen', 'aware', 'tergantung', 'alkohol', 'wish', 'menghilang', 'ditetapkan', 'perhatikan', 'menurun', 'maksimal', 'raja', 'halodoc', 'pakaimasker', 'artis', 'doi', 'utang', 'official', 'sang', 'game', 'valid', 'donasi', 'film', 'formal', 'pengusaha', 'komentar', 'terindikasi', 'with', 'diskon', 'dinkes', 'infografis', 'lari', 'lebay', 'kelurahan', 'lekas', 'budi', 'mukenahhh', 'cebong', 'breaking', 'penderita', 'stok', 'insya', 'umur', 'mein', 'tempodotco', 'saudi', 'nk', 'bacot', 'immunity', 'gajadi', 'penambahan', 'un', 'mengunjungi', 'tl', 'down', 'mengurusi', 'jelas', 'order', 'wo', 'virtual', 'gi', 'buah', 'posisi', 'happy', 'sambang', 'bekas', 'kerajaan', 'inggris', 'magetan', 'sasa', 'merdeka', 'laut', 'lokal', 'menghimbau', 'ibukota', 'kumparannews', 'diluar', 'bandel', 'partai', 'memperhatikan', 'sumbar', 'larangan', 'nahi', 'membaik', 'sebab', 'panic', 'jabatan', 'seminggu', 'janji', 'bts', 'oleh', 'berkurang', 'salut', 'yusuf', 'nakes', 'mencapai', 'wajah', 'sejarah', 'khofifahip', 'pembagian', 'beras', 'taman', 'italia', 'selama', 'opm', 'pimpinan', 'bae', 'ek', 'dukungan', 'case', 'taat', 'gereja', 'just', 'diundur', 'supermarket', 'ng', 'imbau', 'wae', 'pm', 'kebencian', 'disinfektan', 'abu', 'pol', 'herd', 'apakah', 'ajak', 'ala', 'dinkesjkt', 'this', 'commuterline', 'bintang', 'terbayang', 'musibah', 'twit', 'protes', 'sars', 'amit', 'bhi', 'kepikiran', 'hubungan', 'manis', 'petani', 'kabeh', 'line', 'app', 'pemantauan', 'mengira', 'demo', 'terdeteksi', 'luhut', 'beraktifitas', 'pelanggar', 'alamat', 'investasi', 'mak', 'travel', 'arab', 'thr', 'terpaksa', 'cod', 'pangan', 'berapa', 'rentan', 'jajan', 'pengiriman', 'modal', 'pula', 'dibawah', 'odp', 'rujukan', 'perhubungan', 'meninjau', 'diperiksa', 'dokumen', 'menyebut', 'bertahan', 'kar', 'tertib', 'auto', 'pks', 'angkat', 'st', 'vya', 'awas', 'keterangan', 'makassar', 'gang', 'batam', 'lembaga', 'eko', 'pernah', 'kaki', 'merasa', 'wkwkwkwk', 'pergerakan', 'serangan', 'berinteraksi', 'pemkab', 'wapres', 'kehilangan', 'mrt', 'sempat', 'cita', 'papa', 'berusaha', 'digital', 'babinsa', 'sarung', 'penjara', 'pandemic', 'inti', 'berkah', 'dp', 'blt', 'basi', 'kelakuan', 'kejahatan', 'postingan', 'hk', 'kunci', 'balikpapan', 'paru', 'segini', 'beban', 'buang', 'maklumat', 'sedang', 'ampun', 'job', 'gunung', 'zoom', 'end', 'miliar', 'world', 'tmcpoldametro', 'nelayan', 'dihentikan', 'larang', 'warna', 'people', 'versi', 'panglima', 'kunjungan', 'pembukaan', 'alun', 'are', 'memperjuangkan', 'mulia', 'wan', 'seru', 'nilai', 'dapatkan', 'ruangan', 'konten', 'pilihan', 'dikarantina', 'center', 'pro', 'seakan', 'panduan', 'kemanusiaan', 'website', 'meja', 'pilkada', 'hewan', 'asik', 'awal', 'silaturahmi', 'batal', 'kenaikan', 'sebar', 'nusa', 'edaran', 'dirumahsaja', 'datuk', 'wacana', 'asia', 'next', 'benci', 'jauh', 'respon', 'kesana', 'thearieair', 'luck', 'menutupi', 'pakde', 'sulawesi', 'benda', 'nang', 'batu', 'still', 'diajak', 'mbah', 'staf', 'now', 'dibaca', 'hmm', 'serentak', 'persebaran', 'kabinet', 'nyuruh', 'kebiasaan', 'pengemban', 'merokok', 'senduro', 'ina', 'es', 'gambar', 'onlen', 'baiknya', 'au', 'hahahaha', 'real', 'denda', 'bakal', 'kesihatan', 'krisis', 'cara', 'jenis', 'perihal', 'know', 'jamaah', 'padang', 'ikan', 'mulai', 'ji', 'genting', 'lain', 'poin', 'tagar', 'borong', 'tiktok', 'call', 'masa', 'anis', 'manfaat', 'narkoba', 'ulama', 'su', 'punya', 'nekat', 'zaman', 'miris', 'sri', 'pelanggaran', 'ahmad', 'emak', 'bocah', 'uji', 'mimpi', 'polripromoter', 'kebaikan', 'gawat', 'ngeyel', 'naik', 'sah', 'jkw', 'sengaja', 'ujian', 'cianjur', 'miskin', 'soeharto', 'kacau', 'aktifitas', 'berbagi', 'komitmen', 'ay', 'kinerja', 'album', 'sekelas', 'royong', 'reisa', 'hijau', 'long', 'aya', 'terbang', 'maka', 'mengakak', 'piye', 'logika', 'virusi', 'ganjar', 'ilmuwan', 'polresta', 'us', 'haji', 'diskusi', 'udahan', 'ridwan', 'pembangunan', 'jambi', 'konferensi', 'peluang', 'susu', 'berasal', 'geely', 'tembus', 'pantai', 'bumnlawancorona', 'diberlakukan', 'klarifikasi', 'terminal', 'angkatan', 'promo', 'jaemcna', 'bego', 'dingin', 'pekanbaru', 'menghentikan', 'pulih', 'marak', 'jalur', 'bawaslu', 'psgy', 'sulsel', 'noh', 'model', 'konsumsi', 'tercinta', 'mewabah', 'korsel', 'anda', 'resiko', 'menolak', 'identitas', 'disitu', 'iran', 'cabut', 'them', 'pijat', 'berguna', 'bercanda', 'bokap', 'berdua', 'that', 'waras', 'kemensosri', 'menetapkan', 'ancaman', 'bawang', 'penduduk', 'reda', 'hm', 'putar', 'kesempatan', 'halal', 'bau', 'puskesmas', 'kamil', 'tersedia', 'perbelanjaan', 'bab', 'partaisocmed', 'hitam', 'pantesan', 'juara', 'minim', 'berencana', 'menegakkan', 'mengobati', 'omongan', 'berjamaah', 'teu', 'sampah', 'tolak', 'chat', 'dibatasi', 'hey', 'wkwkwkw', 'yth', 'mui', 'erickthohir', 'hak', 'jansen', 'jsp', 'tunjukkan', 'lewat', 'woi', 'andai', 'helm', 'kenya', 'gede', 'dapur', 'cabang', 'kodim', 'hamlud', 'nyaman', 'tradisional', 'dibagikan', 'tamu', 'pengguna', 'lambat', 'dipimpin', 'rejeki', 'ال', 'tour', 'menimbulkan', 'anjlok', 'web', 'rokok', 'drama', 'layak', 'mendengar', 'liar', 'dalem', 'rusak', 'man', 'congor', 'thinking', 'lindungi', 'dites', 'kursi', 'murid', 'yb', 'dibalik', 'kayu', 'sg', 'target', 'visi', 'disease', 'paksa', 'mbok', 'khofifah', 'pelonggaran', 'ditanggung', 'ketiga', 'whatsapp', 'um', 'tunai', 'yogyakarta', 'kepolisian', 'sepele', 'se', 'bukber', 'layananjakarta', 'merasai', 'hr', 'diatur', 'raga', 'beserta', 'nurut', 'jauhi', 'meremehkan', 'subsidi', 'mie', 'keberadaan', 'city', 'mendengarkan', 'lemon', 'mi', 'restoran', 'kecewa', 'penerima', 'mask', 'quarantine', 'puluhan', 'ngawur', 'serba', 'rekomendasi', 'diumumkan', 'bgst', 'bioskop', 'deteksi', 'harapan', 'krmtroysuryo', 'ikhtiar', 'sering', 'koi', 'bulanan', 'mitigasi', 'dkt', 'memperpanjang', 'room', 'persyaratan', 'menikmati', 'why', 'keuangan', 'sik', 'jawatan', 'biasa', 'jari', 'ied', 'melayani', 'tengok', 'siap', 'berkerumun', 'senyap', 'dirawat', 'tangsel', 'diduga', 'berkaitan', 'dungu', 'bayi', 'hata', 'mengomongkan', 'produksi', 'kene', 'solat', 'pegawai', 'wewe', 'pasti', 'pinggir', 'sim', 'disiapkan', 'shopee', 'ingatkan', 'diterima', 'transjakarta', 'pendisipilinan', 'narasi', 'pendemi', 'rata', 'rsud', 'milik', 'tengah', 'doakan', 'sebarkan', 'dijual', 'sidoarjo', 'pembeli', 'penurunan', 'isinya', 'karawang', 'metro', 'remeh', 'penguasa', 'brimob', 'pns', 'harian', 'jadikan', 'koko', 'mampus', 'desinfektan', 'sanksi', 'agung', 'tangkap', 'konteks', 'donadam', 'strategi', 'gojek', 'kelaparan', 'internasional', 'pantau', 'secepatnya', 'hyung', 'usia', 'anying', 'dosa', 'suci', 'skripsi', 'diisolasi', 'ahok', 'healthy', 'kayanya', 'menyelamatkan', 'akusukangemil', 'karaoke', 'rr', 'hidung', 'damai', 'kumparan', 'kepedulian', 'yaudah', 'cgk', 'zero', 'penyaluran', 'set', 'well', 'organisasi', 'singapur', 'haikal', 'pemain', 'kapolsek', 'probolinggo', 'sabtu', 'pembayaran', 'mental', 'twt', 'grafik', 'pesawat', 'mengatur', 'perubahan', 'serang', 'ucapan', 'repot', 'mengimbau', 'memahami', 'rw', 'ngeluh', 'aur', 'sesak', 'pdi', 'kenormalan', 'ti', 'jasa', 'cuti', 'pr', 'pemuda', 'indomaret', 'thank', 'email', 'sembuhkan', 'siti', 'nabi', 'mv', 'fadli', 'penyemprotan', 'ch', 'perlu', 'opini', 'dimakan', 'puas', 'bit', 'terdepan', 'langgar', 'kepentingan', 'rm', 'stayhome', 'asknonym', 'nz', 'gas', 'jaringan', 'ajaran', 'kritis', 'tanzania', 'gates', 'dibantah', 'adik', 'foodfess', 'terbukti', 'plt', 'prakerja', 'jahe', 'gawe', 'slot', 'sepatu', 'satunya', 'hassan', 'berhak', 'prof', 'cafe', 'jilid', 'menyebarkan', 'dsb', 'olah', 'naikin', 'otw', 'jamur', 'service', 'hancur', 'imbas', 'interaksi', 'headline', 'melonjak', 'ketahanan', 'cerdas', 'syariah', 'bibit', 'pemilihan', 'menularkan', 'bubar', 'militer', 'genap', 'jo', 'ntb', 'kampanye', 'pon', 'pacar', 'dimasa', 'rela', 'got', 'meeting', 'dek', 'rha', 'lawancorona', 'teori', 'pls', 'kesembuhan', 'ditempat', 'dumdum', 'energi', 'ditangkap', 'kesalahan', 'omong', 'iii', 'beradaptasi', 'google', 'patut', 'pacaran', 'puspen', 'palembang', 'republikmerdeka', 'umroh', 'ning', 'berkumpul', 'ds', 'secara', 'dosen', 'bis', 'kampret', 'maha', 'marlina', 'seri', 'ajalah', 'ditangani', 'pulkam', 'idha', 'drastis', 'ketinggalan', 'its', 'penanggulangan', 'gerindra', 'becus', 'konsep', 'perkara', 'membahas', 'his', 'berasa', 'rezeki', 'day', 'bapak', 'kui', 'razia', 'selagi', 'gabut', 'dear', 'potong', 'staffgaksus', 'penegakan', 'kpu', 'semester', 'matanajwa', 'sayur', 'bokis', 'suku', 'geiszchalifah', 'euy', 'tertulis', 'fahiraidris', 'ketawa', 'log', 'barusan', 'tribunnews', 'rais', 'terkesan', 'pecat', 'besar', 'jago', 'pergub', 'dominggus', 'ongkir', 'kekuatan', 'penasaran', 'wil', 'masy', 'avail', 'rutin', 'makhluk', 'pokoknya', 'chusnulch', 'ring', 'kompastv', 'menyikapi', 'men', 'idulfitri', 'azizshare', 'kon', 'mengajukan', 'instagram', 'kemenhub', 'sumsel', 'inisiatif', 'kesini', 'pertemuan', 'sh', 'proyek', 'kencang', 'emosi', 'kabur', 'membutuhkan', 'teratasi', 'kkp', 'sir', 'kering', 'du', 'suspek', 'coronaupdate', 'diadakan', 'kanker', 'pengobatan', 'batin', 'terbesar', 'pkb', 'oegy', 'ntt', 'hasilnya', 'kuasa', 'bill', 'wartawan', 'good', 'terserah', 'mendisiplinkan', 'membuat', 'elisa', 'malah', 'operasional', 'warganya', 'betul', 'thewhitehatid', 'permohonan', 'peran', 'bundaran', 'confident', 'iso', 'pln', 'suami', 'rmol', 'list', 'humaspoldajatim', 'beginian', 'domestik', 'rl', 'tan', 'langka', 'perbedaan', 'ditolak', 'dajjal', 'jawaban', 'penghasilan', 'dicek', 'umwalimu', 'api', 'menghambat', 'adil', 'perut', 'jaksel', 'nimbun', 'keep', 'zon', 'ajaib', 'becanda', 'badai', 'cenderung', 'crisis', 'perdagangan', 'cantik', 'prank', 'kerumah', 'pelopor', 'kedah', 'antri', 'liputan', 'kemenbumn', 'ide', 'merasakan', 'mutualan', 'soekarno', 'sat', 'issue', 'maskeran', 'ngibul', 'republikaonline', 'pempus', 'dipotong', 'pembuat', 'sab', 'tompi', 'berkunjung', 'ready', 'pendapatan', 'potensi', 'gotong', 'mengirim', 'bodo', 'ketahuan', 'even', 'reposted', 'pengalaman', 'kisah', 'everyone', 'can', 'bandingkan', 'difteri', 'terkendali', 'tutupi', 'tida', 'ana', 'misi', 'satpol', 'medan', 'magelang', 'komunis', 'dibeli', 'areajulid', 'triliun', 'more', 'sasaran', 'kapolda', 'stock', 'staysafe', 'lbp', 'padat', 'segitu', 'darul', 'telah', 'tajam', 'akhir', 'tahu', 'berarti', 'malamminggu', 'gabungan', 'tunda', 'ane', 'supaya', 'nyebarin', 'berpotensi', 'serikat', 'pemilik', 'fb', 'januari', 'bepergian', 'putra', 'cirebon', 'po', 'first', 'gedung', 'bp', 'peluk', 'tum', 'berdampak', 'sepenuh', 'ulah', 'hamil', 'senantiasa', 'best', 'wis', 'saiki', 'menemukan', 'depan', 'tegaskan', 'mendadak', 'juli', 'ngerjain', 'abai', 'pertanian', 'stabil', 'alami', 'musti', 'memberlakukan', 'meninggalkan', 'kepri', 'help', 'dawuan', 'dibayar', 'pemikiran', 'commuter', 'menyesal', 'lol', 'demokrasi', 'azab', 'salat', 'party', 'puter', 'seluruh', 'dansa', 'perumahan', 'et', 'grati', 'has', 'iklan', 'terang', 'hamba', 'ketentuan', 'kartoharjo', 'pakar', 'sosialisasikan', 'vp', 'ngeles', 'team', 'sumbangan', 'segar', 'berbuat', 'betapa', 'gembira', 'dadi', 'pdip', 'lelah', 'mara', 'mampir', 'pemudik', 'gl', 'momen', 'papuasaaman', 'manokwari', 'laki', 'hayo', 'harun', 'body', 'dihapus', 'terpantau', 'kafir', 'bendera', 'katolikg', 'sialan', 'berkuasa', 'samsat', 'cair', 'abdul', 'yes', 'cases', 'diakses', 'family', 'penulis', 'gaenak', 'sederhana', 'public', 'putuskan', 'tz', 'gemas', 'pengelola', 'salahkan', 'kewaspadaan', 'tbc', 'lur', 'class', 'ugm', 'deket', 'framing', 'kapal', 'lapor', 'pahlawan', 'didalam', 'menjelang', 'madacan', 'lock', 'diliburin', 'dibandingkan', 'ratas', 'ikut', 'juru', 'cok', 'lurah', 'tenggara', 'wabak', 'batang', 'klaten', 'mahfud', 'prediksi', 'krakatau', 'berdamai', 'pari', 'pengendara', 'weh', 'saking', 'kominfo', 'cairan', 'ilctv', 'portal', 'alergi', 'ramadan', 'atm', 'taarifa', 'afya', 'kekurangan', 'saham', 'dibantu', 'kemampuan', 'disebar', 'channel', 'broadcast', 'tunjangan', 'blunder', 'canda', 'masukan', 'reflyhz', 'hukuman', 'wr', 'lek', 'tanpa', 'menenangkan', 'itupun', 'dipaksa', 'kemenag', 'hu', 'resah', 'jelek', 'nikah', 'garis', 'musik', 'penyampaian', 'demen', 'ditunggu', 'menanggulangi', 'keuntungan', 'masyarakatnya', 'candanjoon', 'skenario', 'marikarahman', 'alih', 'ac', 'ambyar', 'out', 'melalui', 'reply', 'ijin', 'seputar', 'tokoh', 'debu', 'syedsaddiq', 'sapa', 'perbatasan', 'diri', 'bantah', 'iyo', 'ojek', 'persis', 'sekali', 'ppn', 'dipikirkan', 'kriminal', 'oe', 'klaim', 'keturunan', 'perketat', 'dicari', 'sbyfess', 'hakuna', 'basmi', 'rekan', 'kediri', 'serahkan', 'astaga', 'jingan', 'wml', 'how', 'adzan', 'bully', 'jr', 'pkl', 'menggunakan', 'perawatan', 'pimpin', 'story', 'nafas', 'start', 'bernama', 'kemendagri', 'thanks', 'garam', 'cuk', 'kuntadhi', 'napi', 'samping', 'himbau', 'ham', 'adem', 'rakyatnya', 'gaduh', 'pengamat', 'bananahoe', 'ireng', 'dijaga', 'cak', 'demokrat', 'intinya', 'bela', 'elok', 'kw', 'tbtb', 'prestasi', 'everything', 'cyber', 'mayoritas', 'nchi', 'kosan', 'egois', 'lahan', 'nchini', 'berlianidris', 'ojol', 'swasta', 'pertahanan', 'lansia', 'fo', 'tubirfess', 'usahakan', 'kalimantan', 'instansi', 'yeh', 'doain', 'health', 'latihan', 'simbolis', 'wahabislokal', 'posting', 'palsu', 'member', 'tiada', 'fitnah', 'pakistan', 'melaporkan', 'jomblo', 'tersebar', 'mengatai', 'saat', 'awak', 'rilis', 'pria', 'bripka', 'negative', 'ganjil', 'para', 'bergerak', 'pencipta', 'antrian', 'www', 'detail', 'transparan', 'koyok', 'juliaribatubara', 'seng', 'deg', 'iseng', 'utbk', 'pondok', 'bappenas', 'thd', 'coronaindonesia', 'diangkat', 'yra', 'longgar', 'langit', 'aw', 'الله', 'hadifianwidjaja', 'dikerahkan', 'exo', 'wedi', 'prioritas', 'kelompok', 'kambing', 'topik', 'pisan', 'mitra', 'rupiah', 'henti', 'cuan', 'desember', 'rk', 'pecatan', 'budikaryas', 'dagang', 'pesta', 'selese', 'temukan', 'kilat', 'keluarkan', 'membagi', 'dialihkan', 'knapa', 'peningkatan', 'empati', 'mers', 'takabur', 'bedanya', 'phbs', 'fungsi', 'sabah', 'baat', 'awam', 'diserang', 'bangkrut', 'bermanfaat', 'karang', 'love', 'milenial', 'memerintahkan', 'food', 'massa', 'kaltim', 'breakingnews', 'gorontalo', 'menentukan', 'berobat', 'menjadikan', 'batalyon', 'wn', 'bakar', 'sampel', 'coronaalert', 'tahunan', 'special', 'nhi', 'emil', 'massage', 'tata', 'pembelajaran', 'kocak', 'tali', 'mburin', 'cegahcovid', 'mengobrol', 'dilonggarkan', 'tuk', 'mungu', 'kerjanya', 'sukabumi', 'rt', 'naoliviea', 'mengingatkan', 'conora', 'berdiri', 'jumpa', 'dibutuhkan', 'diharapkan', 'gresik', 'prihatin', 'boy', 'terlepas', 'liye', 'dirgarambe', 'perintahkan', 'ditindak', 'maya', 'sumut', 'curhat', 'fobia', 'membela', 'sanggup', 'ameuwicano', 'konon', 'contactap', 'ngene', 'beribadah', 'doyan', 'gawai', 'sel', 'astaghfirullah', 'mengancam', 'ntmclantaspolri', 'pemkotmalang', 'droplet', 'surga', 'mobile', 'makin', 'berupaya', 'banding', 'rd', 'masalah', 'dngn', 'kaesangp', 'balas', 'better', 'oxfara', 'pengurus', 'back', 'mengakibatkan', 'rek', 'detik', 'nolak', 'sun', 'cakap', 'menuntut', 'tvri', 'engkau', 'hobi', 'meluncurkan', 'bhakti', 'taiwan', 'polusi', 'box', 'perilaku', 'menyentuh', 'rasis', 'bri', 'personel', 'huft', 'tolonglah', 're', 'merantau', 'wah', 'penonton', 'bengkulu', 'bucin', 'nasionalis', 'peta', 'kuna', 'menulis', 'menyongsong', 'penertiban', 'bn', 'jne', 'cimahi', 'melewati', 'pengelolaan', 'tirta', 'dilaporkan', 'halaman', 'peserta', 'tidakmudik', 'renang', 'kim', 'ind', 'bangunan', 'burung', 'kode', 'motogp', 'enggalpmt', 'hikmah', 'faizalassegaf', 'ampuh', 'bakteri', 'idi', 'kerjasama', 'ekspor', 'goreng', 'darimana', 'dasco', 'dur', 'jejak', 'ngelanggar', 'hubungi', 'imam', 'klik', 'mesjid', 'rate', 'plan', 'jatimpemprov', 'temuan', 'koperasi', 'ai', 'menguatkan', 'pkp', 'saw', 'modar', 'fyi', 'press', 'tante', 'mr', 'lolos', 'assalamualaikum', 'kedisiplinan', 'bersikap', 'wizara', 'memimpin', 'penyebab', 'kelapa', 'atur', 'podo', 'beb', 'cilegon', 'jumlah', 'hamka', 'sutra', 'norma', 'tiga', 'novel', 'cuitan', 'tegur', 'fairuz', 'have', 'nularin', 'pendaftaran', 'menguburkan', 'ge', 'em', 'wafat', 'bersinergi', 'anwar', 'begal', 'rang', 'low', 'makna', 'sob', 'pengetahuan', 'jalani', 'komplek', 'pengendalian', 'pemasukan', 'situs', 'iku', 'sepeda', 'tuan', 'menarik', 'komisi', 'manfaatkan', 'lanjutkan', 'berbulan', 'bah', 'meh', 'jurnalis', 'melulu', 'then', 'mengerikan', 'law', 'bm', 'wisatawan', 'menyakiti', 'disalahin', 'memperingati', 'seandainya', 'membayar', 'tifsembiring', 'undur', 'derajat', 'get', 'jembatan', 'keperluan', 'kegaduhan', 'koruptor', 'cemas', 'nol', 'berlakukan', 'serat', 'mager', 'bertindak', 'sebatas', 'seribu', 'sbyudhoyono', 'pengajuan', 'pendisiplinan', 'rachlannashidik', 'lemah', 'pemilu', 'kepulauan', 'sak', 'parti', 'wkwkwkwkwk', 'diperketat', 'bom', 'masif', 'orba', 'salurkan', 'tkt', 'pantas', 'gabole', 'mengajar', 'cah', 'number', 'kontrak', 'ikhlas', 'nemu', 'dicabut', 'tracing', 'laporkan', 'perbanyak', 'pesimis', 'numpang', 'fitur', 'dijalankan', 'enggan', 'menyepelekan', 'joo', 'soale', 'abaikan', 'matahari', 'tb', 'siku', 'other', 'tanggapan', 'abi', 'cha', 'pedulilindungi', 'mesin', 'uud', 'nan', 'membeli', 'ganteng', 'cengengesan', 'kejar', 'signifikan', 'kriteria', 'dipecat', 'pidato', 'dibatalkan', 'teridentifikasi', 'majlis', 'birthday', 'habib', 'prfmnews', 'ry', 'kembangkan', 'kemenkopmk', 'formula', 'apbn', 'group', 'aipda', 'kuning', 'enteng', 'nct', 'nadiem', 'fraksi', 'chaos', 'biru', 'radio', 'dipantau', 'oknum', 'minuman', 'menampak', 'disalahkan', 'kontol', 'omg', 'elemen', 'sebedau', 'zonk', 'liburkan', 'cancel', 'kontra', 'pengurangan', 'netijen', 'dikeluarkan', 'stevaniehuangg', 'nyokap', 'permasalahan', 'drs', 'streaming', 'berteman', 'fast', 'menebar', 'berusia', 'toka', 'kepemimpinan', 'mengedukasi', 'ajukan', 'ketemuan', 'sipil', 'include', 'ovo', 'kompas', 'txtdrpemerintah', 'jum', 'ayolah', 'fahrihamzah', 'rantaian', 'pmi', 'urgent', 'iman', 'ditentukan', 'en', 'infomalang', 'koramil', 'ccicpolri', 'terjaga', 'rahasia', 'sorotnews', 'harto', 'holiday', 'karniilyas', 'pledis', 'hua', 'og', 'memerangi', 'telat', 'beresiko', 'disembuhkan', 'il', 'pembantu', 'karuan', 'penangan', 'relaksasi', 'melupakan', 'konsisten', 'gabener', 'rak', 'wudhu', 'pengangguran', 'shalihahoan', 'ton', 'ao', 'bahkan', 'clear', 'musnah', 'wawancara', 'rahmad', 'tulis', 'tik', 'sisa', 'tjhinfar', 'kangngabei', 'upacara', 'wifi', 'gelap', 'persahabatan', 'menjauh', 'gunromli', 'pam', 'simpang', 'ny', 'mafia', 'tgupp', 'way', 'when', 'mt', 'tingkatkan', 'kompleks', 'wagonjwa', 'steril', 'sekeluarga', 'absolutia', 'pun', 'pia', 'caper', 'nurani', 'dbd', 'poldajateng', 'italy', 'trenggalek', 'gatot', 'found', 'hiv', 'hum', 'ukm', 'mpr', 'dishub', 'lomba', 'influencer', 'simulasi', 'raha', 'staff', 'stafsus', 'ditutupi', 'dewan', 'que', 'lipat', 'binatang', 'mengecek', 'dirumahkan', 'beritaviral', 'dilihat', 'organ', 'kulit', 'daun', 'rempah', 'ayat', 'cutar', 'din', 'hotline', 'pelan', 'menciptakan', 'super', 'tanjung', 'penyediaan', 'reaksi', 'nah', 'sudirman', 'timeline', 'batalin', 'menganggap', 'nanganin', 'membantah', 'treatment', 'proaktifm', 'dpp', 'manajemen', 'riset', 'ndo', 'galau', 'pelajar', 'tren', 'menghargai', 'terjadi', 'umno', 'putri', 'terancam', 'dakwahbobar', 'rantau', 'manapun', 'menjamin', 'ari', 'mengisi', 'bna', 'hapa', 'pengakuan', 'klaster', 'israel', 'psl', 'sepak', 'takdir', 'house', 'fl', 'pekan', 'pembahasan', 'dagelan', 'hazmat', 'oi', 'te', 'pilek', 'hospital', 'jamin', 'urutan', 'dibikin', 'lokdon', 'mempan', 'cr', 'pdiperjuangan', 'dibawa', 'besarkan', 'sudahlah', 'takutkan', 'haris', 'amal', 'kapolres', 'hadi', 'acuan', 'susun', 'fadilah', 'iphone', 'bersama', 'pertokoan', 'garut', 'tega', 'huhuhu', 'shi', 'muhammadiyah', 'phisical', 'konpres', 'merana', 'otaknya', 'hoga', 'dibully', 'hajar', 'mementingkan', 'apkh', 'coronaoutbreak', 'drop', 'privasi', 'pssi', 'duk', 'anggep', 'pelabuhan', 'base', 'icon', 'safenetvoice', 'sepakat', 'kasur', 'org', 'akhlak', 'timbalan', 'kontroversi', 'only', 'jebol', 'coronagy', 'penting', 'menempel', 'ruwet', 'hivyo', 'dotcom', 'riwayat', 'hina', 'ego', 'dd', 'kuman', 'segenap', 'strong', 'balai', 'sial', 'yudhakhel', 'terduga', 'merata', 'promosi', 'jutaan', 'lalu', 'hangat', 'pasuruan', 'desain', 'miliki', 'pertanda', 'dar', 'entah', 'innalillahi', 'meme', 'daging', 'sorry', 'hmmm', 'dont', 'minat', 'dishubdki', 'ubah', 'menko', 'pemberlakuan', 'ia', 'penutupan', 'airlangga', 'days', 'lulusan', 'micheladamnp', 'last', 'makmur', 'tema', 'kp', 'peristiwa', 'puri', 'rizal', 'menuduh', 'har', 'perbaikan', 'pkn', 'lampu', 'njungi', 'berkat', 'so', 'tegal', 'telepon', 'ugonjwa', 'bermain', 'jaemin', 'jua', 'dialogis', 'bpip', 'off', 'hormat', 'banggasurabaya', 'eta', 'apbd', 'ngadi', 'seharian', 'membolehkan', 'besaran', 'diancam', 'hilmi', 'meluas', 'bangkit', 'esok', 'ensiteaa', 'bayu', 'mtu', 'konyol', 'pelindung', 'generasi', 'lakini', 'tumbuh', 'idadi', 'balaraja', 'dawa', 'defisit', 'melanda', 'fake', 'cuy', 'nikmat', 'maklum', 'banjarmasin', 'sedunia', 'idtodayco', 'garda', 'ex', 'episode', 'segi', 'jepara', 'fenomena', 'clickbait', 'apel', 'monitoring', 'ruhutsitompul', 'pembuatan', 'mamak', 'skala', 'individu', 'kemenkeuri', 'jagajarakaman', 'berjabat', 'dinkeslampung', 'sodara', 'ombudsman', 'gatakut', 'handsanitizer', 'tito', 'mahesa', 'optimis', 'kategori', 'pengangkut', 'bengkalis', 'kalsel', 'gandengan', 'ngaruh', 'ngantuk', 'ras', 'tka', 'pandai', 'dugaan', 'uk', 'here', 'dibahas', 'kredit', 'rusia', 'ditiru', 'penyelenggara', 'kos', 'setia', 'awani', 'putranto', 'problem', 'always', 'konpers', 'penjualan', 'menilai', 'distasiun', 'japek', 'tumbang', 'terhadap', 'gilang', 'dst', 'sembarangan', 'emon', 'mun', 'turunkan', 'ceritanya', 'jerman', 'maling', 'laju', 'ricky', 'er', 'pengaruh', 'yurianto', 'let', 'maambukizi', 'sate', 'release', 'dibelakang', 'jelang', 'koreksi', 'mijan', 'kesimpulan', 'karma', 'meresmikan', 'lega', 'ngegas', 'perniagaan', 'skema', 'rapi', 'ldr', 'februari', 'maki', 'leo', 'mengangkat', 'angkutan', 'setan', 'curva', 'penindakan', 'kawalan', 'tempoh', 'penghuni', 'memanfaatkan', 'cilacap', 'regulasi', 'klinis', 'memefess', 'tahunpolitik', 'idris', 'busuk', 'berhadapan', 'anaknya', 'menyerahkan', 'kontribusi', 'satbrimob', 'driver', 'profesi', 'nomer', 'degan', 'agenda', 'komunikasikita', 'hulu', 'ws', 'nyiapin', 'respect', 'mendoakan', 'perizinan', 'uki', 'penerangan', 'trendingtopic', 'rg', 'dilanggar', 'onok', 'sleman', 'koordinator', 'kunjung', 'bonus', 'elite', 'wagub', 'pasangan', 'perbuatan', 'اس', 'dipanggil', 'tetiba', 'fistula', 'stigma', 'cakasana', 'parlimen', 'blogdokter', 'rawan', 'dilema', 'jamu', 'merayakan', 'pinjaman', 'takde', 'umkm', 'menghina', 'menyenangkan', 'perkuliahan', 'berkas', 'peralatan', 'kemendikbud', 'rebutan', 'cucu', 'terserang', 'bolak', 'istighfar', 'denge', 'iblis', 'mekanisme', 'ummat', 'kecemasan', 'ajakan', 'uncmnfs', 'akutu', 'beer', 'tiongkok', 'waspadacovid', 'juanda', 'oo', 'bangka', 'muhammad', 'kue', 'nutup', 'garagara', 'laman', 'bertugas', 'christwamea', 'provokasi', 'kunjungi', 'selamatkan', 'lak', 'maskapai', 'pata', 'kadal', 'teguran', 'tentukan', 'asa', 'imajinasi', 'sio', 'perempuan', 'banyuwangi', 'opsi', 'common', 'lebar', 'dilindungi', 'nyanyi', 'bertanggung', 'seolah', 'concern', 'budaya', 'nyamuk', 'menanggapi', 'swalayan', 'tangga', 'ket', 'after', 'there', 'eo', 'nenek', 'pedoman', 'ubi', 'luaskan', 'baterai', 'radiasi', 'hiroshima', 'sila', 'hoak', 'pemakaman', 'cpns', 'belanda', 'bek', 'ca', 'ria', 'kila', 'tandanvradio', 'usul', 'tonton', 'jelasin', 'kasus', 'presidennya', 'mutlak', 'kompetisi', 'kawanpajak', 'menggelar', 'patah', 'penjual', 'kualitas', 'diseluruh', 'mengenakan', 'memperkeruh', 'kiamat', 'konsumen', 'cursedkidd', 'berlebih', 'menyarankan', 'luar', 'edisi', 'giveaway', 'kantin', 'muannas', 'peka', 'desak', 'peninggi', 'gangguan', 'keluhan', 'grand', 'alaidid', 'terukur', 'hivi', 'ujaran', 'terkenal', 'referensi', 'maskermahal', 'studio', 'thailand', 'anakkolong', 'dibesar', 'drive', 'ngadepin', 'itali', 'kit', 'lemot', 'ben', 'bayaran', 'jantung', 'pandangan', 'been', 'didepan', 'belikan', 'analisis', 'siapa', 'perduli', 'anjeng', 'sedia', 'ieu', 'itc', 'adu', 'moda', 'penderitaan', 'celana', 'diskotik', 'kebenaran', 'hili', 'alternatif', 'humor', 'sayangi', 'sense', 'anjg', 'menag', 'ob', 'harkamtibmas', 'dr', 'teratur', 'mengganggu', 'menyelesaikan', 'monggo', 'introvert', 'lonjakan', 'dipenjara', 'keberkahan', 'tautan', 'kompak', 'ramah', 'izinkan', 'sebelom', 'setara', 'kanseulir', 'hb', 'maksa', 'kluster', 'pemberian', 'pribumi', 'parkir', 'bukittinggi', 'pmk', 'puji', 'peringatan', 'mention', 'plonga', 'project', 'disinformasi', 'kwamba', 'chinese', 'kuda', 'teroris', 'mendeteksi', 'store', 'camat', 'mengajarkan', 'dibuang', 'grab', 'oposisi', 'blok', 'plongo', 'sosok', 'mood', 'top', 'etika', 'menyumbang', 'denpasar', 'diy', 'kalangan', 'persatuan', 'kkpgoid', 'humasbkipm', 'asu', 'report', 'kian', 'menengah', 'menghubungi', 'dulur', 'kelahiran', 'kdrama']\n"
          ]
        },
        {
          "output_type": "stream",
          "name": "stderr",
          "text": [
            "/usr/local/lib/python3.7/dist-packages/ipykernel_launcher.py:77: VisibleDeprecationWarning: Creating an ndarray from ragged nested sequences (which is a list-or-tuple of lists-or-tuples-or ndarrays with different lengths or shapes) is deprecated. If you meant to do this, you must specify 'dtype=object' when creating the ndarray.\n",
            "/usr/local/lib/python3.7/dist-packages/ipykernel_launcher.py:79: VisibleDeprecationWarning: Creating an ndarray from ragged nested sequences (which is a list-or-tuple of lists-or-tuples-or ndarrays with different lengths or shapes) is deprecated. If you meant to do this, you must specify 'dtype=object' when creating the ndarray.\n",
            "/usr/local/lib/python3.7/dist-packages/ipykernel_launcher.py:81: VisibleDeprecationWarning: Creating an ndarray from ragged nested sequences (which is a list-or-tuple of lists-or-tuples-or ndarrays with different lengths or shapes) is deprecated. If you meant to do this, you must specify 'dtype=object' when creating the ndarray.\n"
          ]
        }
      ],
      "source": [
        "# preprocess the data\n",
        "\n",
        "def build_alay_dict():\n",
        "    df = pd.read_csv('https://raw.githubusercontent.com/nasalsabila/kamus-alay/master/colloquial-indonesian-lexicon.csv')\n",
        "    return dict(zip(df['slang'], df['formal']))\n",
        "\n",
        "def translate_alay(input_string, alay_dict):\n",
        "    string_splitted = input_string.split(\" \")\n",
        "    for i in range(len(string_splitted)):\n",
        "        if(string_splitted[i] in alay_dict):\n",
        "            string_splitted[i] = alay_dict[string_splitted[i]]\n",
        "    return ' '.join(string_splitted)\n",
        "\n",
        "_URLS = {\n",
        "    \"train\" : \"https://raw.githubusercontent.com/rayendito/TextClassification/main/data_worthcheck/train.csv\",\n",
        "    \"test\" : \"https://raw.githubusercontent.com/rayendito/TextClassification/main/data_worthcheck/test.csv\",\n",
        "    \"val\" : \"https://raw.githubusercontent.com/rayendito/TextClassification/main/data_worthcheck/dev.csv\",\n",
        "}\n",
        "\n",
        "alay_dict = build_alay_dict()\n",
        "\n",
        "train = pd.read_csv(_URLS[\"train\"])\n",
        "train = train.drop(labels = [\"Unnamed: 0\"], axis = 1)\n",
        "test = pd.read_csv(_URLS[\"test\"])\n",
        "val = pd.read_csv(_URLS[\"val\"])\n",
        "\n",
        "train['text_aa'] = train['text_a'].apply(lambda x: translate_alay(x,alay_dict))\n",
        "test['text_aa'] = test['text_a'].apply(lambda x: translate_alay(x,alay_dict))\n",
        "val['text_aa'] = val['text_a'].apply(lambda x: translate_alay(x,alay_dict))\n",
        "\n",
        "train['text_clean'] = train['text_aa'].apply(lambda x: gensim.utils.simple_preprocess(x))\n",
        "test['text_clean'] = test['text_aa'].apply(lambda x: gensim.utils.simple_preprocess(x))\n",
        "val['text_clean'] = val['text_aa'].apply(lambda x: gensim.utils.simple_preprocess(x))\n",
        "\n",
        "\n",
        "train['label']=train['label'].map({'yes':1,'no':0})\n",
        "test['label']=test['label'].map({'yes':1,'no':0})\n",
        "val['label']=val['label'].map({'yes':1,'no':0})\n",
        "\n",
        "x_train, y_train = train[\"text_clean\"],train[\"label\"]\n",
        "x_test, y_test = test[\"text_clean\"],test[\"label\"]\n",
        "x_val, y_val = val[\"text_clean\"],val[\"label\"]\n",
        "\n",
        "# create word2vec model\n",
        "vec_size = 300\n",
        "w2vmodel = gensim.models.Word2Vec(\n",
        "    # x_train,\n",
        "    vector_size=vec_size,\n",
        "    window=3,\n",
        "    min_count=10\n",
        "\n",
        "    # min_count=20,\n",
        "    # window=4,\n",
        "    # vector_size=vec_size,\n",
        "    # sample=6e-5, \n",
        "    # alpha=0.03, \n",
        "    # min_alpha=0.0007, \n",
        "    # negative=20,\n",
        "    )\n",
        "\n",
        "t = time()\n",
        "w2vmodel.build_vocab(x_train, progress_per=100)\n",
        "print('Time to build vocab: {} mins'.format(round((time() - t) / 60, 2)))\n",
        "\n",
        "t = time()\n",
        "w2vmodel.train(x_train, total_examples=w2vmodel.corpus_count, epochs=30, report_delay=1)\n",
        "print('Time to train the model: {} mins'.format(round((time() - t) / 60, 2)))\n",
        "\n",
        "# test word similarity\n",
        "print(w2vmodel.wv.most_similar(\"pemerintah\"))\n",
        "# get word index\n",
        "print(w2vmodel.wv.index_to_key)\n",
        "\n",
        "# create a list of word vectors\n",
        "words = set(w2vmodel.wv.index_to_key)\n",
        "x_train_vect = np.array([np.array([w2vmodel.wv[i] for i in ls if i in words])\n",
        "                         for ls in x_train])\n",
        "x_test_vect = np.array([np.array([w2vmodel.wv[i] for i in ls if i in words])\n",
        "                         for ls in x_test])\n",
        "x_val_vect = np.array([np.array([w2vmodel.wv[i] for i in ls if i in words])\n",
        "                         for ls in x_val])\n",
        "vectors = [w2vmodel.wv[word] for word in words]\n",
        "\n",
        "# Compute sentence vectors by averaging the word vectors for the words contained in the sentence\n",
        "x_train_vect_avg = []\n",
        "for v in x_train_vect:\n",
        "    if v.size:\n",
        "        x_train_vect_avg.append(v.mean(axis=0))\n",
        "    else:\n",
        "        x_train_vect_avg.append(np.zeros(vec_size, dtype=float))\n",
        "        \n",
        "x_test_vect_avg = []\n",
        "for v in x_test_vect:\n",
        "    if v.size:\n",
        "        x_test_vect_avg.append(v.mean(axis=0))\n",
        "    else:\n",
        "        x_test_vect_avg.append(np.zeros(vec_size, dtype=float))\n",
        "\n",
        "x_val_vect_avg = []\n",
        "for v in x_val_vect:\n",
        "    if v.size:\n",
        "        x_val_vect_avg.append(v.mean(axis=0))\n",
        "    else:\n",
        "        x_val_vect_avg.append(np.zeros(vec_size, dtype=float))\n",
        "  \n",
        "# convert to numpy array\n",
        "x_train_vect_avg = np.array(x_train_vect_avg)\n",
        "x_test_vect_avg = np.array(x_test_vect_avg)\n",
        "x_val_vect_avg = np.array(x_val_vect_avg)\n",
        "y_train = np.array(y_train)\n",
        "y_val = np.array(y_val)\n",
        "y_test = np.array(y_test)"
      ]
    },
    {
      "cell_type": "code",
      "execution_count": 51,
      "metadata": {
        "colab": {
          "base_uri": "https://localhost:8080/"
        },
        "id": "wDgTKozQjw-C",
        "outputId": "0c10b883-4a2b-4396-f337-f06ca77b14fd"
      },
      "outputs": [
        {
          "output_type": "stream",
          "name": "stdout",
          "text": [
            "Epoch 1/10\n",
            "676/676 [==============================] - 4s 4ms/step - loss: 0.3678 - accuracy: 0.8404 - f1_m: 0.6525 - precision_m: 0.7278 - recall_m: 0.6298 - val_loss: 0.3255 - val_accuracy: 0.8643 - val_f1_m: 0.6583 - val_precision_m: 0.7153 - val_recall_m: 0.6434\n",
            "Epoch 2/10\n",
            "676/676 [==============================] - 3s 4ms/step - loss: 0.3217 - accuracy: 0.8627 - f1_m: 0.7308 - precision_m: 0.7785 - recall_m: 0.7126 - val_loss: 0.3255 - val_accuracy: 0.8568 - val_f1_m: 0.6719 - val_precision_m: 0.6831 - val_recall_m: 0.7062\n",
            "Epoch 3/10\n",
            "676/676 [==============================] - 3s 4ms/step - loss: 0.3049 - accuracy: 0.8699 - f1_m: 0.7484 - precision_m: 0.7913 - recall_m: 0.7314 - val_loss: 0.3144 - val_accuracy: 0.8661 - val_f1_m: 0.6703 - val_precision_m: 0.7223 - val_recall_m: 0.6625\n",
            "Epoch 4/10\n",
            "676/676 [==============================] - 3s 4ms/step - loss: 0.2891 - accuracy: 0.8771 - f1_m: 0.7651 - precision_m: 0.8049 - recall_m: 0.7502 - val_loss: 0.3146 - val_accuracy: 0.8664 - val_f1_m: 0.6726 - val_precision_m: 0.7281 - val_recall_m: 0.6670\n",
            "Epoch 5/10\n",
            "676/676 [==============================] - 3s 4ms/step - loss: 0.2745 - accuracy: 0.8845 - f1_m: 0.7744 - precision_m: 0.8142 - recall_m: 0.7582 - val_loss: 0.3203 - val_accuracy: 0.8639 - val_f1_m: 0.6557 - val_precision_m: 0.7257 - val_recall_m: 0.6379\n",
            "Epoch 6/10\n",
            "676/676 [==============================] - 3s 4ms/step - loss: 0.2619 - accuracy: 0.8910 - f1_m: 0.7853 - precision_m: 0.8234 - recall_m: 0.7728 - val_loss: 0.3296 - val_accuracy: 0.8568 - val_f1_m: 0.6460 - val_precision_m: 0.6992 - val_recall_m: 0.6483\n",
            "Epoch 7/10\n",
            "676/676 [==============================] - 3s 4ms/step - loss: 0.2479 - accuracy: 0.8984 - f1_m: 0.8015 - precision_m: 0.8378 - recall_m: 0.7901 - val_loss: 0.3321 - val_accuracy: 0.8607 - val_f1_m: 0.6621 - val_precision_m: 0.6915 - val_recall_m: 0.6810\n",
            "Epoch 8/10\n",
            "676/676 [==============================] - 3s 4ms/step - loss: 0.2350 - accuracy: 0.9034 - f1_m: 0.8132 - precision_m: 0.8450 - recall_m: 0.8030 - val_loss: 0.3328 - val_accuracy: 0.8646 - val_f1_m: 0.6596 - val_precision_m: 0.7044 - val_recall_m: 0.6655\n",
            "Epoch 9/10\n",
            "676/676 [==============================] - 3s 4ms/step - loss: 0.2216 - accuracy: 0.9109 - f1_m: 0.8282 - precision_m: 0.8564 - recall_m: 0.8197 - val_loss: 0.3411 - val_accuracy: 0.8596 - val_f1_m: 0.6365 - val_precision_m: 0.7224 - val_recall_m: 0.6137\n",
            "Epoch 10/10\n",
            "676/676 [==============================] - 3s 4ms/step - loss: 0.2107 - accuracy: 0.9160 - f1_m: 0.8384 - precision_m: 0.8642 - recall_m: 0.8338 - val_loss: 0.3461 - val_accuracy: 0.8593 - val_f1_m: 0.6563 - val_precision_m: 0.6943 - val_recall_m: 0.6745\n"
          ]
        },
        {
          "output_type": "execute_result",
          "data": {
            "text/plain": [
              "<keras.callbacks.History at 0x7f3d1e591890>"
            ]
          },
          "metadata": {},
          "execution_count": 51
        }
      ],
      "source": [
        "def recall_m(y_true, y_pred):\n",
        "    true_positives = K.sum(K.round(K.clip(y_true * y_pred, 0, 1)))\n",
        "    possible_positives = K.sum(K.round(K.clip(y_true, 0, 1)))\n",
        "    recall = true_positives / (possible_positives + K.epsilon())\n",
        "    return recall\n",
        "\n",
        "def precision_m(y_true, y_pred):\n",
        "    true_positives = K.sum(K.round(K.clip(y_true * y_pred, 0, 1)))\n",
        "    predicted_positives = K.sum(K.round(K.clip(y_pred, 0, 1)))\n",
        "    precision = true_positives / (predicted_positives + K.epsilon())\n",
        "    return precision\n",
        "\n",
        "def f1_m(y_true, y_pred):\n",
        "    precision = precision_m(y_true, y_pred)\n",
        "    recall = recall_m(y_true, y_pred)\n",
        "    return 2*((precision*recall)/(precision+recall+K.epsilon()))\n",
        "\n",
        "# create a deep learning classifier using word2vec model\n",
        "model = tf.keras.Sequential([\n",
        "    # tf.keras.layers.Conv1D(32, kernel_size=5, activation='relu',input_shape=(vec_size,1)),\n",
        "    # tf.keras.layers.Conv1D(64, kernel_size=5, activation='relu'),\n",
        "    # tf.keras.layers.Conv1D(128, kernel_size=5, activation='relu'),\n",
        "    # tf.keras.layers.Flatten(),\n",
        "    tf.keras.layers.Dense(512, activation='relu'),\n",
        "    tf.keras.layers.Dense(128, activation='relu'),\n",
        "    tf.keras.layers.Dense(32, activation='relu'),\n",
        "    tf.keras.layers.Dense(1, activation='sigmoid')\n",
        "])\n",
        "\n",
        "model.compile(optimizer=tf.keras.optimizers.Adam(learning_rate=0.0001), loss='binary_crossentropy', metrics=['accuracy',f1_m,precision_m, recall_m])\n",
        "\n",
        "model.fit(x_train_vect_avg, y_train, epochs=10, validation_data=(x_val_vect_avg, y_val))"
      ]
    },
    {
      "cell_type": "code",
      "source": [],
      "metadata": {
        "id": "uCB3SQbVrMj3"
      },
      "execution_count": null,
      "outputs": []
    },
    {
      "cell_type": "code",
      "source": [
        "# predict the model\n",
        "y_pred = model.predict(x_test_vect_avg)\n",
        "y_pred = np.array([round(y_pred[i][0]) for i in range(len(y_pred))])\n",
        "\n",
        "# print(y_pred[-20:])\n",
        "# print(y_test[-20:])\n",
        "# print(y_val[-20:])\n",
        "\n",
        "# calculate the metrics\n",
        "accuracy = accuracy_score(y_test, y_pred)\n",
        "precision = precision_score(y_test, y_pred)\n",
        "recall = recall_score(y_test, y_pred)\n",
        "f1 = 2 * (precision * recall) / (precision + recall)\n",
        "\n",
        "print(\"Accuracy: \", accuracy)\n",
        "print(\"Precision: \", precision)\n",
        "print(\"Recall: \", recall)\n",
        "print(\"F1: \", f1)"
      ],
      "metadata": {
        "colab": {
          "base_uri": "https://localhost:8080/"
        },
        "id": "bTEUchJsmKc5",
        "outputId": "7e2dfd15-2b03-4b88-fd93-9e023b0b2b5a"
      },
      "execution_count": 52,
      "outputs": [
        {
          "output_type": "stream",
          "name": "stdout",
          "text": [
            "Accuracy:  0.8592857142857143\n",
            "Precision:  0.7284671532846715\n",
            "Recall:  0.7057991513437057\n",
            "F1:  0.7169540229885057\n"
          ]
        }
      ]
    }
  ],
  "metadata": {
    "accelerator": "GPU",
    "colab": {
      "provenance": []
    },
    "kernelspec": {
      "display_name": "Python 3",
      "name": "python3"
    },
    "language_info": {
      "name": "python"
    }
  },
  "nbformat": 4,
  "nbformat_minor": 0
}