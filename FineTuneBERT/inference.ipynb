{
 "cells": [
  {
   "cell_type": "code",
   "execution_count": null,
   "metadata": {},
   "outputs": [],
   "source": [
    "!pip install dataset transformers evaluate huggingface_hub pytorch torch"
   ]
  },
  {
   "cell_type": "code",
   "execution_count": 1,
   "metadata": {},
   "outputs": [
    {
     "name": "stderr",
     "output_type": "stream",
     "text": [
      "c:\\Users\\user\\AppData\\Local\\Programs\\Python\\Python39\\lib\\site-packages\\tqdm\\auto.py:22: TqdmWarning: IProgress not found. Please update jupyter and ipywidgets. See https://ipywidgets.readthedocs.io/en/stable/user_install.html\n",
      "  from .autonotebook import tqdm as notebook_tqdm\n"
     ]
    }
   ],
   "source": [
    "import torch\n",
    "from datasets import load_dataset\n",
    "from transformers import AutoTokenizer, AutoModelForSequenceClassification, TrainingArguments, Trainer, BertForSequenceClassification, BertTokenizer, TextClassificationPipeline"
   ]
  },
  {
   "cell_type": "code",
   "execution_count": 2,
   "metadata": {},
   "outputs": [
    {
     "name": "stderr",
     "output_type": "stream",
     "text": [
      "No config specified, defaulting to: sentiment_dataset/sentiment_dataset\n"
     ]
    },
    {
     "name": "stdout",
     "output_type": "stream",
     "text": [
      "Downloading and preparing dataset sentiment_dataset/sentiment_dataset to C:\\Users\\user\\.cache\\huggingface\\datasets\\sentiment_dataset\\sentiment_dataset\\1.1.0\\2da821ff6a3006f6c1e7f2129f48704ac3b1f241e503263ea1439567a5595e08...\n"
     ]
    },
    {
     "name": "stderr",
     "output_type": "stream",
     "text": [
      "                                                                   \r"
     ]
    },
    {
     "name": "stdout",
     "output_type": "stream",
     "text": [
      "Dataset sentiment_dataset downloaded and prepared to C:\\Users\\user\\.cache\\huggingface\\datasets\\sentiment_dataset\\sentiment_dataset\\1.1.0\\2da821ff6a3006f6c1e7f2129f48704ac3b1f241e503263ea1439567a5595e08. Subsequent calls will reuse this data.\n"
     ]
    },
    {
     "name": "stderr",
     "output_type": "stream",
     "text": [
      "100%|██████████| 3/3 [00:00<00:00, 111.03it/s]\n"
     ]
    }
   ],
   "source": [
    "# load the data\n",
    "data = load_dataset(\"./sentiment_dataset_loader.py\")"
   ]
  },
  {
   "cell_type": "code",
   "execution_count": 8,
   "metadata": {},
   "outputs": [
    {
     "name": "stderr",
     "output_type": "stream",
     "text": [
      "Some weights of the model checkpoint at indolem/indobert-base-uncased were not used when initializing BertForSequenceClassification: ['cls.predictions.transform.dense.bias', 'cls.predictions.decoder.weight', 'cls.predictions.transform.LayerNorm.bias', 'cls.predictions.decoder.bias', 'cls.predictions.bias', 'cls.predictions.transform.LayerNorm.weight', 'cls.predictions.transform.dense.weight']\n",
      "- This IS expected if you are initializing BertForSequenceClassification from the checkpoint of a model trained on another task or with another architecture (e.g. initializing a BertForSequenceClassification model from a BertForPreTraining model).\n",
      "- This IS NOT expected if you are initializing BertForSequenceClassification from the checkpoint of a model that you expect to be exactly identical (initializing a BertForSequenceClassification model from a BertForSequenceClassification model).\n",
      "Some weights of BertForSequenceClassification were not initialized from the model checkpoint at indolem/indobert-base-uncased and are newly initialized: ['classifier.bias', 'classifier.weight']\n",
      "You should probably TRAIN this model on a down-stream task to be able to use it for predictions and inference.\n"
     ]
    }
   ],
   "source": [
    "# load indobert tokenizer and model (finetuned for a little bit)\n",
    "tokenizer = AutoTokenizer.from_pretrained(\"indolem/indobert-base-uncased\")\n",
    "model = AutoModelForSequenceClassification.from_pretrained(\"./saved_model/\", num_labels=2)\n",
    "model_pure = AutoModelForSequenceClassification.from_pretrained(\"indolem/indobert-base-uncased\", num_labels=2)"
   ]
  },
  {
   "cell_type": "code",
   "execution_count": 9,
   "metadata": {},
   "outputs": [],
   "source": [
    "model.config.id2label = {\n",
    "    0: 'no',\n",
    "    1: 'yes'\n",
    "}\n",
    "\n",
    "model_pure.config.id2label = {\n",
    "    0: 'no',\n",
    "    1: 'yes'\n",
    "}"
   ]
  },
  {
   "cell_type": "code",
   "execution_count": 10,
   "metadata": {},
   "outputs": [],
   "source": [
    "finetuned_pipeline = TextClassificationPipeline(model=model, tokenizer=tokenizer)\n",
    "pure_pipeline = TextClassificationPipeline(model=model_pure, tokenizer=tokenizer)"
   ]
  },
  {
   "cell_type": "code",
   "execution_count": 12,
   "metadata": {},
   "outputs": [
    {
     "name": "stderr",
     "output_type": "stream",
     "text": [
      "Loading cached shuffled indices for dataset at C:\\Users\\user\\.cache\\huggingface\\datasets\\sentiment_dataset\\sentiment_dataset\\1.1.0\\2da821ff6a3006f6c1e7f2129f48704ac3b1f241e503263ea1439567a5595e08\\cache-4ebe2a65cd17c3c4.arrow\n"
     ]
    }
   ],
   "source": [
    "data['train'].shuffle(seed=42)[:10]"
   ]
  },
  {
   "cell_type": "code",
   "execution_count": 17,
   "metadata": {},
   "outputs": [
    {
     "data": {
      "text/plain": [
       "{'text': ['amaliyatussilmi intandetris deliv depok juga',\n",
       "  'grosir masker spirulina depok sms wa 082258435266 line',\n",
       "  'buka data hp disalahin enggak membantu nyalah2in kondisi kesehatan pasien positif corona depok dirawat rspi sulianti saroso membaik wali kota depok menyebut nya mengalami stres',\n",
       "  'ramayanads ezash ramayana saja min depok graha cijantung',\n",
       "  'pt kai commuter jabodetabek mengaku antisipasi virus corona membagi masker stasiun serat mengeluarkan imbauan khusus nya distasiun depok bumnsiaplawancorona mantap',\n",
       "  'lagi marak virus corona diindo nya depok direktur kantor orang depok waswas begitu pagi disediain jamu jahe dibeliin langsung nya disediain ditiap meja dipastiin semua karyawan nya minum jamu',\n",
       "  'nya langkah cepat bumnsiaplawancorona khusus nya daerah depok bumn farmasi diperintahkan menjaga ketersediaan stok menjaga stabilitas harga alat pelindung cairan antiseptik alat sanitasi 4y4nkz jr kw19 rizmawidiono',\n",
       "  'kemarin angkot pas mangga anak nya gue mah yang kena virus kemarin dimana srot2 ingus depok ya salaman ya orang depok ketularan heh anak nya dritadi srat srot mulu ya',\n",
       "  'kepedulian bumn negeri bank mandiri membagikan 10 000 masker lokasi kota depok bumnsiaplawancorona mantap',\n",
       "  'ramayanads nih ramayana depok gaaaaa'],\n",
       " 'label': [0, 0, 1, 0, 1, 0, 1, 0, 1, 0]}"
      ]
     },
     "execution_count": 17,
     "metadata": {},
     "output_type": "execute_result"
    }
   ],
   "source": [
    "ngetesbg = data['test'][10:20]\n",
    "ngetesbg"
   ]
  },
  {
   "cell_type": "code",
   "execution_count": 15,
   "metadata": {},
   "outputs": [
    {
     "data": {
      "text/plain": [
       "[{'label': 'no', 'score': 0.7027826309204102},\n",
       " {'label': 'no', 'score': 0.7027825713157654},\n",
       " {'label': 'no', 'score': 0.7027743458747864},\n",
       " {'label': 'no', 'score': 0.7027826905250549},\n",
       " {'label': 'no', 'score': 0.702585756778717},\n",
       " {'label': 'no', 'score': 0.7027830481529236},\n",
       " {'label': 'no', 'score': 0.7027844190597534},\n",
       " {'label': 'no', 'score': 0.7027826905250549},\n",
       " {'label': 'no', 'score': 0.7027567625045776},\n",
       " {'label': 'no', 'score': 0.7027825713157654}]"
      ]
     },
     "execution_count": 15,
     "metadata": {},
     "output_type": "execute_result"
    }
   ],
   "source": [
    "finetuned_pipeline(ngetesbg['text'])"
   ]
  },
  {
   "cell_type": "code",
   "execution_count": 16,
   "metadata": {},
   "outputs": [
    {
     "data": {
      "text/plain": [
       "[{'label': 'yes', 'score': 0.5808363556861877},\n",
       " {'label': 'no', 'score': 0.5652847290039062},\n",
       " {'label': 'yes', 'score': 0.5129758715629578},\n",
       " {'label': 'yes', 'score': 0.5918773412704468},\n",
       " {'label': 'no', 'score': 0.5252501368522644},\n",
       " {'label': 'yes', 'score': 0.5777524709701538},\n",
       " {'label': 'no', 'score': 0.53452068567276},\n",
       " {'label': 'no', 'score': 0.5688713788986206},\n",
       " {'label': 'yes', 'score': 0.5713223218917847},\n",
       " {'label': 'no', 'score': 0.5174939036369324}]"
      ]
     },
     "execution_count": 16,
     "metadata": {},
     "output_type": "execute_result"
    }
   ],
   "source": [
    "pure_pipeline(ngetesbg['text'])"
   ]
  },
  {
   "cell_type": "code",
   "execution_count": 3,
   "metadata": {},
   "outputs": [],
   "source": [
    "from utils.bertfinetune_utils import build_alay_dict, translate_alay\n",
    "dic = build_alay_dict()"
   ]
  },
  {
   "cell_type": "code",
   "execution_count": 3,
   "metadata": {},
   "outputs": [],
   "source": [
    "hmmmm = data['train']['text'][:10]"
   ]
  },
  {
   "cell_type": "code",
   "execution_count": 4,
   "metadata": {},
   "outputs": [
    {
     "data": {
      "text/plain": [
       "'betewe buka twitter cuman ngetweet lihat home berita corona panik kepikiran ndamau buka-buka home yang aware saja i ll stay at home indak rumah kalo indak penting2 banget'"
      ]
     },
     "execution_count": 4,
     "metadata": {},
     "output_type": "execute_result"
    }
   ],
   "source": [
    "hmmmm[0]"
   ]
  },
  {
   "cell_type": "code",
   "execution_count": 6,
   "metadata": {},
   "outputs": [
    {
     "ename": "AttributeError",
     "evalue": "'list' object has no attribute 'join'",
     "output_type": "error",
     "traceback": [
      "\u001b[1;31m---------------------------------------------------------------------------\u001b[0m",
      "\u001b[1;31mAttributeError\u001b[0m                            Traceback (most recent call last)",
      "\u001b[1;32m~\\AppData\\Local\\Temp/ipykernel_24036/109545107.py\u001b[0m in \u001b[0;36m<module>\u001b[1;34m\u001b[0m\n\u001b[1;32m----> 1\u001b[1;33m \u001b[0mprint\u001b[0m\u001b[1;33m(\u001b[0m\u001b[0mtranslate_alay\u001b[0m\u001b[1;33m(\u001b[0m\u001b[0mhmmmm\u001b[0m\u001b[1;33m[\u001b[0m\u001b[1;36m0\u001b[0m\u001b[1;33m]\u001b[0m\u001b[1;33m,\u001b[0m \u001b[0mdic\u001b[0m\u001b[1;33m)\u001b[0m\u001b[1;33m)\u001b[0m\u001b[1;33m\u001b[0m\u001b[1;33m\u001b[0m\u001b[0m\n\u001b[0m",
      "\u001b[1;32md:\\TextClassification\\FineTuneBERT\\utils\\bertfinetune_utils.py\u001b[0m in \u001b[0;36mtranslate_alay\u001b[1;34m(input_string, alay_dict)\u001b[0m\n\u001b[0;32m     10\u001b[0m         \u001b[1;32mif\u001b[0m\u001b[1;33m(\u001b[0m\u001b[0mstring_splitted\u001b[0m\u001b[1;33m[\u001b[0m\u001b[0mi\u001b[0m\u001b[1;33m]\u001b[0m \u001b[1;32min\u001b[0m \u001b[0malay_dict\u001b[0m\u001b[1;33m)\u001b[0m\u001b[1;33m:\u001b[0m\u001b[1;33m\u001b[0m\u001b[1;33m\u001b[0m\u001b[0m\n\u001b[0;32m     11\u001b[0m             \u001b[0mstring_splitted\u001b[0m\u001b[1;33m[\u001b[0m\u001b[0mi\u001b[0m\u001b[1;33m]\u001b[0m \u001b[1;33m=\u001b[0m \u001b[0malay_dict\u001b[0m\u001b[1;33m[\u001b[0m\u001b[0mstring_splitted\u001b[0m\u001b[1;33m[\u001b[0m\u001b[0mi\u001b[0m\u001b[1;33m]\u001b[0m\u001b[1;33m]\u001b[0m\u001b[1;33m\u001b[0m\u001b[1;33m\u001b[0m\u001b[0m\n\u001b[1;32m---> 12\u001b[1;33m     \u001b[1;32mreturn\u001b[0m \u001b[0mstring_splitted\u001b[0m\u001b[1;33m.\u001b[0m\u001b[0mjoin\u001b[0m\u001b[1;33m(\u001b[0m\u001b[1;34m\" \"\u001b[0m\u001b[1;33m)\u001b[0m\u001b[1;33m\u001b[0m\u001b[1;33m\u001b[0m\u001b[0m\n\u001b[0m",
      "\u001b[1;31mAttributeError\u001b[0m: 'list' object has no attribute 'join'"
     ]
    }
   ],
   "source": [
    "print(translate_alay(hmmmm[0], dic))"
   ]
  },
  {
   "cell_type": "code",
   "execution_count": 15,
   "metadata": {},
   "outputs": [
    {
     "data": {
      "text/plain": [
       "'msih'"
      ]
     },
     "execution_count": 15,
     "metadata": {},
     "output_type": "execute_result"
    }
   ],
   "source": [
    "translate_alay(aaa, dic)\n",
    "aaa"
   ]
  },
  {
   "cell_type": "code",
   "execution_count": 7,
   "metadata": {},
   "outputs": [],
   "source": [
    "import pandas as pd\n",
    "df = pd.read_csv('https://raw.githubusercontent.com/nasalsabila/kamus-alay/master/colloquial-indonesian-lexicon.csv')\n"
   ]
  },
  {
   "cell_type": "code",
   "execution_count": 9,
   "metadata": {},
   "outputs": [
    {
     "data": {
      "text/html": [
       "<div>\n",
       "<style scoped>\n",
       "    .dataframe tbody tr th:only-of-type {\n",
       "        vertical-align: middle;\n",
       "    }\n",
       "\n",
       "    .dataframe tbody tr th {\n",
       "        vertical-align: top;\n",
       "    }\n",
       "\n",
       "    .dataframe thead th {\n",
       "        text-align: right;\n",
       "    }\n",
       "</style>\n",
       "<table border=\"1\" class=\"dataframe\">\n",
       "  <thead>\n",
       "    <tr style=\"text-align: right;\">\n",
       "      <th></th>\n",
       "      <th>slang</th>\n",
       "      <th>formal</th>\n",
       "    </tr>\n",
       "  </thead>\n",
       "  <tbody>\n",
       "    <tr>\n",
       "      <th>0</th>\n",
       "      <td>woww</td>\n",
       "      <td>wow</td>\n",
       "    </tr>\n",
       "    <tr>\n",
       "      <th>1</th>\n",
       "      <td>aminn</td>\n",
       "      <td>amin</td>\n",
       "    </tr>\n",
       "    <tr>\n",
       "      <th>2</th>\n",
       "      <td>met</td>\n",
       "      <td>selamat</td>\n",
       "    </tr>\n",
       "    <tr>\n",
       "      <th>3</th>\n",
       "      <td>netaas</td>\n",
       "      <td>menetas</td>\n",
       "    </tr>\n",
       "    <tr>\n",
       "      <th>4</th>\n",
       "      <td>keberpa</td>\n",
       "      <td>keberapa</td>\n",
       "    </tr>\n",
       "    <tr>\n",
       "      <th>...</th>\n",
       "      <td>...</td>\n",
       "      <td>...</td>\n",
       "    </tr>\n",
       "    <tr>\n",
       "      <th>15001</th>\n",
       "      <td>gataunya</td>\n",
       "      <td>enggak taunya</td>\n",
       "    </tr>\n",
       "    <tr>\n",
       "      <th>15002</th>\n",
       "      <td>gtau</td>\n",
       "      <td>enggak tau</td>\n",
       "    </tr>\n",
       "    <tr>\n",
       "      <th>15003</th>\n",
       "      <td>gatau</td>\n",
       "      <td>enggak tau</td>\n",
       "    </tr>\n",
       "    <tr>\n",
       "      <th>15004</th>\n",
       "      <td>fans2</td>\n",
       "      <td>fan-fan</td>\n",
       "    </tr>\n",
       "    <tr>\n",
       "      <th>15005</th>\n",
       "      <td>gaharus</td>\n",
       "      <td>enggak harus</td>\n",
       "    </tr>\n",
       "  </tbody>\n",
       "</table>\n",
       "<p>15006 rows × 2 columns</p>\n",
       "</div>"
      ],
      "text/plain": [
       "          slang         formal\n",
       "0          woww            wow\n",
       "1         aminn           amin\n",
       "2           met        selamat\n",
       "3        netaas        menetas\n",
       "4       keberpa       keberapa\n",
       "...         ...            ...\n",
       "15001  gataunya  enggak taunya\n",
       "15002      gtau     enggak tau\n",
       "15003     gatau     enggak tau\n",
       "15004     fans2        fan-fan\n",
       "15005   gaharus   enggak harus\n",
       "\n",
       "[15006 rows x 2 columns]"
      ]
     },
     "execution_count": 9,
     "metadata": {},
     "output_type": "execute_result"
    }
   ],
   "source": [
    "df[['slang','formal']]"
   ]
  }
 ],
 "metadata": {
  "kernelspec": {
   "display_name": "Python 3.9.4 64-bit",
   "language": "python",
   "name": "python3"
  },
  "language_info": {
   "codemirror_mode": {
    "name": "ipython",
    "version": 3
   },
   "file_extension": ".py",
   "mimetype": "text/x-python",
   "name": "python",
   "nbconvert_exporter": "python",
   "pygments_lexer": "ipython3",
   "version": "3.9.4"
  },
  "orig_nbformat": 4,
  "vscode": {
   "interpreter": {
    "hash": "82ed002fa2d4956f5c6aec99bcefe0f73a9f79882f3c9e2319b14958a5896ac5"
   }
  }
 },
 "nbformat": 4,
 "nbformat_minor": 2
}
